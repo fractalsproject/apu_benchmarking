{
 "cells": [
  {
   "cell_type": "code",
   "execution_count": null,
   "metadata": {},
   "outputs": [],
   "source": [
    "import sys\n",
    "import gsi_float_neural_api\n",
    "import numpy as np\n",
    "import csv\n",
    "from datetime import datetime\n",
    "import h5py"
   ]
  },
  {
   "cell_type": "markdown",
   "metadata": {},
   "source": [
    "### Allocate Boards"
   ]
  },
  {
   "cell_type": "markdown",
   "metadata": {},
   "source": [
    "Allocate boards on the correct localhost, don't proceed until status is \"OK\""
   ]
  },
  {
   "cell_type": "code",
   "execution_count": null,
   "metadata": {},
   "outputs": [],
   "source": [
    "gsi_conf = gsi_float_neural_api.GSIConfig()\n",
    "print(gsi_conf)\n",
    "gsi = gsi_float_neural_api.Float_GSI(conf=gsi_conf)"
   ]
  },
  {
   "cell_type": "code",
   "execution_count": null,
   "metadata": {},
   "outputs": [],
   "source": [
    " #gsi.delete_allocation('5b51814e-fd12-11ea-b7c7-0242ac110014')"
   ]
  },
  {
   "cell_type": "code",
   "execution_count": null,
   "metadata": {},
   "outputs": [],
   "source": [
    "alloc_id, status = gsi.request_allocation(2) #Only 2 right now\n",
    "\n",
    "print(\"Allocation ID: \" + str(alloc_id))\n",
    "print(\"Status: \" + str(status))"
   ]
  },
  {
   "cell_type": "markdown",
   "metadata": {},
   "source": [
    "### Load Data"
   ]
  },
  {
   "cell_type": "markdown",
   "metadata": {},
   "source": [
    "Loading dataset from server since it is mounted there, loading query set from local npy file"
   ]
  },
  {
   "cell_type": "code",
   "execution_count": null,
   "metadata": {},
   "outputs": [],
   "source": [
    "#dataset_id, result = gsi.import_dataset(\"/efs/data/qa/any_vision/dataset.npy\")\n",
    "dataset_id, result = gsi.import_dataset(\"/efs/data/qa/any_vision/deep-image-96.npy\")\n",
    "print(\"Dataset ID: \" + str(dataset_id))\n",
    "print(\"Status: \" + str(result))\n",
    "neural_matrix_path = \"/efs/data/public/Daphna/AnyVision_NPHash_Weight_Files/any_vision_1589923812.533218__dim256_loss7_v3random_proxies_nlFalse_hns256.0_scale30_optimizerAdam_lr0.001_proxies5000_trainFalse_hidden2_tss100000000_merged_weights.npy\""
   ]
  },
  {
   "cell_type": "code",
   "execution_count": null,
   "metadata": {},
   "outputs": [],
   "source": [
    "#create the queryset\n",
    "#fl = np.load('queries.npy')\n",
    "fl = np.load(\"/efs/data/qa/any_vision/deep1b_queries.npy\")\n",
    "\n",
    "#testing query's working\n",
    "#search = gsi.Search()\n",
    "\n",
    "#fp = np.load('/efs/data/qa/any_vision/queries_1000.npy')\n",
    "#status = gsi.load_data(alloc_id, dataset_id, neural_matrix_path, hamming_k=100, normalize=False, typical_nqueries=1000, max_nqueries=1000)\n",
    "#distance, indices, search_time, status = search.knn_composite_cosine_by_queries(alloc_id, dataset_id, fp)"
   ]
  },
  {
   "cell_type": "markdown",
   "metadata": {},
   "source": [
    "### Search"
   ]
  },
  {
   "cell_type": "markdown",
   "metadata": {},
   "source": [
    "Search using different Hamming values"
   ]
  },
  {
   "cell_type": "code",
   "execution_count": null,
   "metadata": {},
   "outputs": [],
   "source": [
    "search = gsi.Search()\n",
    "\n",
    "ham = 10\n",
    "time_list = []\n",
    "\n",
    "total_search_time = 0\n",
    "print(\"Search Times (QPS) for GSI_APU neural float32 Search:\")\n",
    "print(\"----------------------------------------------\")\n",
    "print()\n",
    "print(\"RUNNING ...\")\n",
    "\n",
    "timed = []\n",
    "neigh = []\n",
    "dist = []\n",
    "\n",
    "print(\"About to load data...\")\n",
    "status = gsi.load_data(alloc_id, dataset_id, neural_matrix_path, hamming_k=ham, normalize=False, typical_nqueries=1, max_nqueries=1)\n",
    "print(\"Done loading data...\")\n",
    "print(status)\n",
    "total_search = 0\n",
    "for i in range(len(fl)):\n",
    "    \n",
    "    print(\"About to do a query...\")\n",
    "    distance, indices, search_time, status = search.knn_composite_cosine_by_queries(alloc_id, dataset_id, fl[i])\n",
    "    print(\"Done with the query...\")\n",
    "    \n",
    "    timed.append(search_time)\n",
    "    neigh.append(indices)\n",
    "    dist.append(distance)\n",
    "    \n",
    "    break # let's just try 1 right now\n",
    "    \n",
    "    if i % 1000 == 0:\n",
    "        print(i)\n",
    "    \n",
    "    total_search = total_search + search_time\n",
    "\n",
    "print(\"----------------------------------------------\")\n",
    "print(\"Total Search Time: \" +str(total_search))\n",
    "print(\"Hamming_k Value of: \" + str(ham),end = \" runs at \")\n",
    "print(str(np.round(1.0/(total_search/10000),2)) + \" Average Queries per Second\")"
   ]
  },
  {
   "cell_type": "code",
   "execution_count": null,
   "metadata": {},
   "outputs": [],
   "source": [
    "attrs = {\n",
    "        \"algo\": \"float32_1board\",\n",
    "        \"batch_mode\": False,\n",
    "        \"best_search_time\": total_search/10000,\n",
    "        \"candidates\": 1,\n",
    "        \"expect_extra\": False,\n",
    "        \"name\": \"float32\",\n",
    "        \"run_count\": 2,\n",
    "        \"distance\": \"angular\",\n",
    "        \"count\": 10,\n",
    "        'dataset': 'nytimes-256-angular'\n",
    "    }"
   ]
  },
  {
   "cell_type": "code",
   "execution_count": null,
   "metadata": {},
   "outputs": [],
   "source": [
    "#SAVE IN ANN_BENCH FORMAT\n",
    "fn = \"apu_float32_1_1\"    \n",
    "f = h5py.File(fn, 'w')\n",
    "\n",
    "for k, v in attrs.items():\n",
    "        f.attrs[k] = v\n",
    "\n",
    "times = f.create_dataset('times', (len(timed),), 'f')\n",
    "    \n",
    "neighbors = f.create_dataset('neighbors', (len(neigh), 10), 'i')\n",
    "    \n",
    "distances = f.create_dataset('distances', (len(dist), 10), 'f')\n",
    "\n",
    "times = timed\n",
    "neighbors = neigh\n",
    "distances = dist\n",
    "             \n",
    "f.close()"
   ]
  },
  {
   "cell_type": "code",
   "execution_count": null,
   "metadata": {},
   "outputs": [],
   "source": [
    "status = gsi.unload_data(alloc_id, dataset_id)\n",
    "status = gsi.delete_allocation(alloc_id)"
   ]
  },
  {
   "cell_type": "code",
   "execution_count": null,
   "metadata": {},
   "outputs": [],
   "source": []
  },
  {
   "cell_type": "code",
   "execution_count": null,
   "metadata": {},
   "outputs": [],
   "source": []
  },
  {
   "cell_type": "markdown",
   "metadata": {},
   "source": [
    "## TESTING FORMAT, not relevent"
   ]
  },
  {
   "cell_type": "code",
   "execution_count": null,
   "metadata": {},
   "outputs": [],
   "source": [
    "check = h5py.File(\"angular_hnsw_M_12_efConstruction_800_post_0_false_1\",\"r\")\n",
    "check.keys()"
   ]
  },
  {
   "cell_type": "code",
   "execution_count": null,
   "metadata": {},
   "outputs": [],
   "source": [
    "list(check[list(check.keys())[1]])[:100]"
   ]
  }
 ],
 "metadata": {
  "kernelspec": {
   "display_name": "Python 3",
   "language": "python",
   "name": "python3"
  },
  "language_info": {
   "codemirror_mode": {
    "name": "ipython",
    "version": 3
   },
   "file_extension": ".py",
   "mimetype": "text/x-python",
   "name": "python",
   "nbconvert_exporter": "python",
   "pygments_lexer": "ipython3",
   "version": "3.8.3"
  }
 },
 "nbformat": 4,
 "nbformat_minor": 4
}
