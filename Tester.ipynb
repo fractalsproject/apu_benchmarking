{
 "cells": [
  {
   "cell_type": "code",
   "execution_count": 1,
   "metadata": {},
   "outputs": [],
   "source": [
    "import sys\n",
    "import gsi_float_neural_api\n",
    "import numpy as np\n",
    "import csv\n",
    "from datetime import datetime\n",
    "import h5py"
   ]
  },
  {
   "cell_type": "markdown",
   "metadata": {},
   "source": [
    "### Allocate Boards"
   ]
  },
  {
   "cell_type": "markdown",
   "metadata": {},
   "source": [
    "Allocate boards on the correct localhost, don't proceed until status is \"OK\""
   ]
  },
  {
   "cell_type": "code",
   "execution_count": 2,
   "metadata": {},
   "outputs": [
    {
     "name": "stdout",
     "output_type": "stream",
     "text": [
      "<gsi_float_neural_api.GSIConfig object at 0x7f7ce1c4c070>\n"
     ]
    }
   ],
   "source": [
    "gsi_conf = gsi_float_neural_api.GSIConfig()\n",
    "print(gsi_conf)\n",
    "gsi = gsi_float_neural_api.Float_GSI(conf=gsi_conf)"
   ]
  },
  {
   "cell_type": "code",
   "execution_count": 5,
   "metadata": {},
   "outputs": [
    {
     "data": {
      "text/plain": [
       "'OK'"
      ]
     },
     "execution_count": 5,
     "metadata": {},
     "output_type": "execute_result"
    }
   ],
   "source": [
    " #gsi.delete_allocation('127b8960-f916-11ea-92f3-0242ac110010')"
   ]
  },
  {
   "cell_type": "code",
   "execution_count": 6,
   "metadata": {},
   "outputs": [
    {
     "name": "stdout",
     "output_type": "stream",
     "text": [
      "Allocation ID: 635da5fc-f916-11ea-92f3-0242ac110010\n",
      "Status: OK\n"
     ]
    }
   ],
   "source": [
    "alloc_id, status = gsi.request_allocation(2) #Only 2 right now\n",
    "\n",
    "print(\"Allocation ID: \" + str(alloc_id))\n",
    "print(\"Status: \" + str(status))"
   ]
  },
  {
   "cell_type": "markdown",
   "metadata": {},
   "source": [
    "### Load Data"
   ]
  },
  {
   "cell_type": "markdown",
   "metadata": {},
   "source": [
    "Loading dataset from server since it is mounted there, loading query set from local hdf5 file"
   ]
  },
  {
   "cell_type": "code",
   "execution_count": 7,
   "metadata": {},
   "outputs": [
    {
     "name": "stdout",
     "output_type": "stream",
     "text": [
      "Dataset ID: 6426e6c4-f916-11ea-92f3-0242ac110010\n",
      "Status: OK\n"
     ]
    }
   ],
   "source": [
    "dataset_id, result = gsi.import_dataset(\"/efs/data/qa/any_vision/dataset.npy\")\n",
    "print(\"Dataset ID: \" + str(dataset_id))\n",
    "print(\"Status: \" + str(result))"
   ]
  },
  {
   "cell_type": "code",
   "execution_count": 8,
   "metadata": {},
   "outputs": [],
   "source": [
    "number_of_queries = 1000\n",
    "neural_matrix_path = \"/efs/data/public/Daphna/AnyVision_NPHash_Weight_Files/any_vision_1589923812.533218__dim256_loss7_v3random_proxies_nlFalse_hns256.0_scale30_optimizerAdam_lr0.001_proxies5000_trainFalse_hidden2_tss100000000_merged_weights.npy\""
   ]
  },
  {
   "cell_type": "code",
   "execution_count": 9,
   "metadata": {},
   "outputs": [],
   "source": [
    "#status = gsi.load_data(alloc_id, dataset_id, neural_matrix_path, hamming_k=3000, normalize=False, typical_nqueries=number_of_queries, max_nqueries=number_of_queries)\n",
    "#print(\"Status: \" +str(status))"
   ]
  },
  {
   "cell_type": "markdown",
   "metadata": {},
   "source": [
    "### Search"
   ]
  },
  {
   "cell_type": "markdown",
   "metadata": {},
   "source": [
    "Search using different Hamming values"
   ]
  },
  {
   "cell_type": "code",
   "execution_count": 13,
   "metadata": {},
   "outputs": [
    {
     "name": "stdout",
     "output_type": "stream",
     "text": [
      "Search Times (QPS) for GSI_APU float32 Search:\n",
      "----------------------------------------------\n",
      "Hamming_k value of: 100 runs at 5870.17 Queries per second\n",
      "\n",
      "Hamming_k value of: 150 runs at 5612.92 Queries per second\n",
      "\n",
      "Hamming_k value of: 300 runs at 4419.81 Queries per second\n",
      "\n",
      "Hamming_k value of: 600 runs at 3742.65 Queries per second\n",
      "\n",
      "Hamming_k value of: 1000 runs at 3244.2 Queries per second\n",
      "\n",
      "Hamming_k value of: 1500 runs at 2641.84 Queries per second\n",
      "\n",
      "Hamming_k value of: 3000 runs at 1677.07 Queries per second\n",
      "\n"
     ]
    }
   ],
   "source": [
    "search = gsi.Search()\n",
    "\n",
    "hamming_list = [100,150,300,600,1000,1500,3000]\n",
    "time_list = []\n",
    "\n",
    "total_search_time = 0\n",
    "print(\"Search Times (QPS) for GSI_APU float32 Search:\")\n",
    "print(\"----------------------------------------------\")\n",
    "\n",
    "for j in range(len(hamming_list)):\n",
    "\n",
    "    status = gsi.load_data(alloc_id, dataset_id, neural_matrix_path, hamming_k=hamming_list[j], normalize=False, typical_nqueries=1000, max_nqueries=1000)\n",
    "    \n",
    "    total_search = 0\n",
    "    for i in range(10):\n",
    "        distance, indices, search_time, status = search.knn_composite_cosine(alloc_id, dataset_id, \"/efs/data/qa/any_vision/queries_1000.npy\")\n",
    "        time_list.append([distance, indices, search_time])\n",
    "        total_search = total_search + search_time\n",
    "        \n",
    "    time = total_search/10\n",
    "    print(\"Hamming_k value of: \" + str(hamming_list[j]),end = \" runs at \")\n",
    "    print(str(np.round(1000.0/time,2)) + \" Queries per second\")\n",
    "    print()\n",
    "    \n",
    "    status = gsi.unload_data(alloc_id, dataset_id)\n",
    "    "
   ]
  },
  {
   "cell_type": "code",
   "execution_count": 31,
   "metadata": {},
   "outputs": [],
   "source": [
    "status = gsi.unload_data(alloc_id, dataset_id)\n",
    "status = gsi.delete_allocation(alloc_id)"
   ]
  },
  {
   "cell_type": "code",
   "execution_count": null,
   "metadata": {},
   "outputs": [],
   "source": [
    "attrs = {\n",
    "        \"batch_mode\": batch,\n",
    "        \"best_search_time\": best_search_time,\n",
    "        \"candidates\": avg_candidates,\n",
    "        \"expect_extra\": verbose,\n",
    "        \"name\": str(algo),\n",
    "        \"run_count\": run_count,\n",
    "        \"distance\": distance,\n",
    "        \"count\": int(count)\n",
    "    }"
   ]
  },
  {
   "cell_type": "code",
   "execution_count": null,
   "metadata": {},
   "outputs": [],
   "source": [
    "        if batch:\n",
    "            results = batch_query(X_test)\n",
    "        else:\n",
    "            results = [single_query(x) for x in X_test]"
   ]
  }
 ],
 "metadata": {
  "kernelspec": {
   "display_name": "Python 3",
   "language": "python",
   "name": "python3"
  },
  "language_info": {
   "codemirror_mode": {
    "name": "ipython",
    "version": 3
   },
   "file_extension": ".py",
   "mimetype": "text/x-python",
   "name": "python",
   "nbconvert_exporter": "python",
   "pygments_lexer": "ipython3",
   "version": "3.8.3"
  }
 },
 "nbformat": 4,
 "nbformat_minor": 4
}
